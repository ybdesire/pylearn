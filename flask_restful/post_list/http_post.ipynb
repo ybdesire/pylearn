{
 "cells": [
  {
   "cell_type": "markdown",
   "metadata": {},
   "source": [
    "# how to run\n",
    "\n",
    "1. `python api_post.py`\n",
    "2. run below code"
   ]
  },
  {
   "cell_type": "markdown",
   "metadata": {},
   "source": [
    "# 1. get"
   ]
  },
  {
   "cell_type": "code",
   "execution_count": 18,
   "metadata": {},
   "outputs": [
    {
     "name": "stdout",
     "output_type": "stream",
     "text": [
      "200\n",
      "{'task': 'jobs', 'my_list': None, 'http': 'get'}\n"
     ]
    }
   ],
   "source": [
    "import requests\n",
    "# single para\n",
    "r = requests.get('http://localhost:8002/todos?task=jobs')\n",
    "print(r.status_code)\n",
    "x = r.json()\n",
    "print(x)"
   ]
  },
  {
   "cell_type": "code",
   "execution_count": 21,
   "metadata": {},
   "outputs": [
    {
     "name": "stdout",
     "output_type": "stream",
     "text": [
      "200\n",
      "{'task': 'jobs', 'my_list': ['[1,2,3]'], 'http': 'get'}\n"
     ]
    }
   ],
   "source": [
    "import requests\n",
    "# multi para\n",
    "r = requests.get('http://localhost:8002/todos?task=jobs&my_list=[1,2,3]')\n",
    "print(r.status_code)\n",
    "x = r.json()\n",
    "print(x)\n",
    "# attention: the my_list cannot be py-list format"
   ]
  },
  {
   "cell_type": "markdown",
   "metadata": {},
   "source": [
    "# 2. post list"
   ]
  },
  {
   "cell_type": "code",
   "execution_count": 22,
   "metadata": {},
   "outputs": [
    {
     "name": "stdout",
     "output_type": "stream",
     "text": [
      "200\n",
      "{'task': 'jobs', 'my_list': ['1', '2', '3', '4'], 'http': 'post'}\n"
     ]
    }
   ],
   "source": [
    "import requests\n",
    "# 2 paras\n",
    "r = requests.post('http://localhost:8002/todos', json={\"task\": \"jobs\", 'my_list':[1,2,3,4]})\n",
    "print(r.status_code)\n",
    "x = r.json()\n",
    "print(x)"
   ]
  },
  {
   "cell_type": "code",
   "execution_count": 25,
   "metadata": {},
   "outputs": [
    {
     "name": "stdout",
     "output_type": "stream",
     "text": [
      "200\n",
      "{'task': 'jobs', 'my_list': ['a', 'bb', 'ccc'], 'http': 'post'}\n"
     ]
    }
   ],
   "source": [
    "import requests\n",
    "# 2 paras\n",
    "r = requests.post('http://localhost:8002/todos', json={\"task\": \"jobs\", 'my_list':['a','bb','ccc']})\n",
    "print(r.status_code)\n",
    "x = r.json()\n",
    "print(x)"
   ]
  },
  {
   "cell_type": "code",
   "execution_count": 23,
   "metadata": {},
   "outputs": [
    {
     "name": "stdout",
     "output_type": "stream",
     "text": [
      "200\n",
      "{'task': None, 'my_list': ['1', '2', '3', '4'], 'http': 'post'}\n"
     ]
    }
   ],
   "source": [
    "import requests\n",
    "# single parameter\n",
    "r = requests.post('http://localhost:8002/todos', json={'my_list':[1,2,3,4]})\n",
    "print(r.status_code)\n",
    "x = r.json()\n",
    "print(x)"
   ]
  },
  {
   "cell_type": "code",
   "execution_count": 24,
   "metadata": {},
   "outputs": [
    {
     "name": "stdout",
     "output_type": "stream",
     "text": [
      "200\n",
      "{'task': 'jobs', 'my_list': None, 'http': 'post'}\n"
     ]
    }
   ],
   "source": [
    "import requests\n",
    "# single parameter\n",
    "r = requests.post('http://localhost:8002/todos', json={\"task\": \"jobs\"})\n",
    "print(r.status_code)\n",
    "x = r.json()\n",
    "print(x)"
   ]
  }
 ],
 "metadata": {
  "kernelspec": {
   "display_name": "Python 3",
   "language": "python",
   "name": "python3"
  },
  "language_info": {
   "codemirror_mode": {
    "name": "ipython",
    "version": 3
   },
   "file_extension": ".py",
   "mimetype": "text/x-python",
   "name": "python",
   "nbconvert_exporter": "python",
   "pygments_lexer": "ipython3",
   "version": "3.7.4"
  }
 },
 "nbformat": 4,
 "nbformat_minor": 2
}
