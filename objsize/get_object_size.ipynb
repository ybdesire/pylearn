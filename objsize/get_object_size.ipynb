{
 "cells": [
  {
   "cell_type": "markdown",
   "metadata": {},
   "source": [
    "# get object size (python3)"
   ]
  },
  {
   "cell_type": "code",
   "execution_count": 2,
   "metadata": {},
   "outputs": [
    {
     "name": "stdout",
     "output_type": "stream",
     "text": [
      "Collecting objsize\n",
      "  Downloading https://files.pythonhosted.org/packages/a7/62/0fa389d0c77ca41c30e01539fb1abfd480ef38a310ca0908dbd3d218750a/objsize-0.3.2-py2.py3-none-any.whl\n",
      "Installing collected packages: objsize\n",
      "Successfully installed objsize-0.3.2\n",
      "\u001b[33mWARNING: You are using pip version 19.1.1, however version 19.3 is available.\n",
      "You should consider upgrading via the 'pip install --upgrade pip' command.\u001b[0m\n"
     ]
    }
   ],
   "source": [
    "! pip install objsize"
   ]
  },
  {
   "cell_type": "markdown",
   "metadata": {},
   "source": [
    "## 1. get list/dict size"
   ]
  },
  {
   "cell_type": "code",
   "execution_count": 4,
   "metadata": {},
   "outputs": [
    {
     "name": "stdout",
     "output_type": "stream",
     "text": [
      "208\n",
      "288\n",
      "496\n",
      "1440\n"
     ]
    }
   ],
   "source": [
    "from objsize import get_deep_size\n",
    "\n",
    "o1 = [1,2,3,4]\n",
    "o2 = {}\n",
    "o3 = {'k':o1, 'k1':o1}\n",
    "o4 = {'k1':o1, 'k2':o1, 'k3':[{'k31':o1},{'k32':o2}]}\n",
    "\n",
    "print(get_deep_size(o1))# byte\n",
    "print(get_deep_size(o2))\n",
    "print(get_deep_size(o3))\n",
    "print(get_deep_size(o4))"
   ]
  },
  {
   "cell_type": "markdown",
   "metadata": {},
   "source": [
    "## 2. below is not a correct way, it's only fit list"
   ]
  },
  {
   "cell_type": "code",
   "execution_count": 6,
   "metadata": {},
   "outputs": [
    {
     "name": "stdout",
     "output_type": "stream",
     "text": [
      "96\n",
      "288\n",
      "288\n",
      "288\n"
     ]
    }
   ],
   "source": [
    "import sys\n",
    "\n",
    "o1 = [1,2,3,4]\n",
    "print(sys.getsizeof(o1))\n",
    "o2 = {}\n",
    "print(sys.getsizeof(o2))\n",
    "o3 = {'k':o1, 'k1':o1}\n",
    "print(sys.getsizeof(o3))\n",
    "o4 = {'k1':o1, 'k2':o1, 'k3':[{'k31':o1},{'k32':o2}]}\n",
    "print(sys.getsizeof(o4))"
   ]
  },
  {
   "cell_type": "code",
   "execution_count": null,
   "metadata": {
    "collapsed": true
   },
   "outputs": [],
   "source": [
    "# only list is calculated correctly by sys.getsizeof()\n",
    "# dict (o3, o4) result is error."
   ]
  }
 ],
 "metadata": {
  "kernelspec": {
   "display_name": "Python 3",
   "language": "python",
   "name": "python3"
  },
  "language_info": {
   "codemirror_mode": {
    "name": "ipython",
    "version": 3
   },
   "file_extension": ".py",
   "mimetype": "text/x-python",
   "name": "python",
   "nbconvert_exporter": "python",
   "pygments_lexer": "ipython3",
   "version": "3.5.4"
  }
 },
 "nbformat": 4,
 "nbformat_minor": 2
}
