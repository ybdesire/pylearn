{
 "cells": [
  {
   "cell_type": "code",
   "execution_count": 2,
   "metadata": {
    "collapsed": true
   },
   "outputs": [],
   "source": [
    "# How to use *args and **kwargs in Python\n",
    "# https://www.saltycrane.com/blog/2008/01/how-to-use-args-and-kwargs-in-python/"
   ]
  },
  {
   "cell_type": "markdown",
   "metadata": {},
   "source": [
    "# 1. \\*args"
   ]
  },
  {
   "cell_type": "markdown",
   "metadata": {},
   "source": [
    "* variable number of arguments\n",
    "* non-keyworded, variable-length argument list"
   ]
  },
  {
   "cell_type": "markdown",
   "metadata": {},
   "source": [
    "## 1.1 basic demo"
   ]
  },
  {
   "cell_type": "code",
   "execution_count": 5,
   "metadata": {},
   "outputs": [
    {
     "name": "stdout",
     "output_type": "stream",
     "text": [
      "('arg:', 1)\n",
      "('arg:', 'two')\n",
      "('arg:', 3)\n"
     ]
    }
   ],
   "source": [
    "def test_var_args(*args):\n",
    "    for arg in args:\n",
    "        print(\"arg:\", arg)\n",
    "\n",
    "test_var_args(1, \"two\", 3)"
   ]
  },
  {
   "cell_type": "markdown",
   "metadata": {},
   "source": [
    "## 1.2 add \\* in parameter input"
   ]
  },
  {
   "cell_type": "code",
   "execution_count": 7,
   "metadata": {},
   "outputs": [
    {
     "name": "stdout",
     "output_type": "stream",
     "text": [
      "('arg:', 1)\n",
      "('arg:', 'two')\n",
      "('arg:', 3)\n"
     ]
    }
   ],
   "source": [
    "a = [1, \"two\", 3]\n",
    "test_var_args(*a)"
   ]
  },
  {
   "cell_type": "markdown",
   "metadata": {},
   "source": [
    "## 1.3 if no \\* add, treated as one parameter"
   ]
  },
  {
   "cell_type": "code",
   "execution_count": 8,
   "metadata": {},
   "outputs": [
    {
     "name": "stdout",
     "output_type": "stream",
     "text": [
      "('arg:', [1, 'two', 3])\n"
     ]
    }
   ],
   "source": [
    "a = [1, \"two\", 3]\n",
    "test_var_args(a)"
   ]
  },
  {
   "cell_type": "markdown",
   "metadata": {},
   "source": [
    "# 2. \\*\\*kwargs"
   ]
  },
  {
   "cell_type": "markdown",
   "metadata": {},
   "source": [
    "* variable number of arguments\n",
    "* keyworded, variable-length argument list"
   ]
  },
  {
   "cell_type": "markdown",
   "metadata": {},
   "source": [
    "## 2.1 basic"
   ]
  },
  {
   "cell_type": "code",
   "execution_count": 9,
   "metadata": {},
   "outputs": [
    {
     "name": "stdout",
     "output_type": "stream",
     "text": [
      "farg: 1\n",
      "myarg2: two\n",
      "myarg3: 3\n"
     ]
    }
   ],
   "source": [
    "def test_var_kwargs( **kwargs ):\n",
    "    for key in kwargs:\n",
    "        print(\"%s: %s\" % (key, kwargs[key]))\n",
    "\n",
    "test_var_kwargs(farg=1, myarg2=\"two\", myarg3=3)"
   ]
  },
  {
   "cell_type": "markdown",
   "metadata": {},
   "source": [
    "## 2.1 \\* in parameter input-1"
   ]
  },
  {
   "cell_type": "code",
   "execution_count": 13,
   "metadata": {},
   "outputs": [
    {
     "name": "stdout",
     "output_type": "stream",
     "text": [
      "farg: 1\n",
      "myarg2: two\n",
      "myarg3: 3\n"
     ]
    }
   ],
   "source": [
    "def test_var_kwargs( **kwargs ):\n",
    "    for key in kwargs:\n",
    "        print(\"%s: %s\" % (key, kwargs[key]))\n",
    "a = {'farg':1, 'myarg2':\"two\", 'myarg3':3}\n",
    "test_var_kwargs(**a)"
   ]
  },
  {
   "cell_type": "markdown",
   "metadata": {},
   "source": [
    "## 2.2 \\* in parameter input-2"
   ]
  },
  {
   "cell_type": "code",
   "execution_count": 14,
   "metadata": {},
   "outputs": [
    {
     "name": "stdout",
     "output_type": "stream",
     "text": [
      "('arg1:', 1)\n",
      "('arg2:', 'two')\n",
      "('arg3:', 3)\n"
     ]
    }
   ],
   "source": [
    "def test_var_args_call(arg1, arg2, arg3):\n",
    "    print(\"arg1:\", arg1)\n",
    "    print(\"arg2:\", arg2)\n",
    "    print(\"arg3:\", arg3)\n",
    "\n",
    "kwargs = {\"arg3\": 3, \"arg2\": \"two\"}\n",
    "test_var_args_call(1, **kwargs)"
   ]
  }
 ],
 "metadata": {
  "kernelspec": {
   "display_name": "Python 2",
   "language": "python",
   "name": "python2"
  },
  "language_info": {
   "codemirror_mode": {
    "name": "ipython",
    "version": 2
   },
   "file_extension": ".py",
   "mimetype": "text/x-python",
   "name": "python",
   "nbconvert_exporter": "python",
   "pygments_lexer": "ipython2",
   "version": "2.7.5"
  }
 },
 "nbformat": 4,
 "nbformat_minor": 2
}
