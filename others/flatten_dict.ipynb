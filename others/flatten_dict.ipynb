{
 "cells": [
  {
   "cell_type": "code",
   "execution_count": 1,
   "metadata": {},
   "outputs": [
    {
     "name": "stdout",
     "output_type": "stream",
     "text": [
      "Collecting flatten_dict\n",
      "  Downloading https://files.pythonhosted.org/packages/7f/c2/a3427d69137de28e3c83bcf0244925542dae7402e26c574d48b304d1f460/flatten_dict-0.0.3.post1-py2.py3-none-any.whl\n",
      "Collecting pathlib2>=2.3 (from flatten_dict)\n",
      "  Downloading https://files.pythonhosted.org/packages/2a/46/c696dcf1c7aad917b39b875acdc5451975e3a9b4890dca8329983201c97a/pathlib2-2.3.3-py2.py3-none-any.whl\n",
      "Requirement already satisfied: six in /root/anaconda3/envs/envtf/lib/python3.5/site-packages (from flatten_dict)\n",
      "Installing collected packages: pathlib2, flatten-dict\n",
      "Successfully installed flatten-dict-0.0.3.post1 pathlib2-2.3.3\n",
      "\u001b[33mYou are using pip version 9.0.1, however version 19.0.3 is available.\n",
      "You should consider upgrading via the 'pip install --upgrade pip' command.\u001b[0m\n"
     ]
    }
   ],
   "source": [
    "! pip install flatten_dict"
   ]
  },
  {
   "cell_type": "code",
   "execution_count": 2,
   "metadata": {},
   "outputs": [
    {
     "name": "stdout",
     "output_type": "stream",
     "text": [
      "{'a.c.d': 2, 'c.d': 4, 'a.c.e.h': 7, 'a.c.e.f.g': 6, 'c.a': 5, 'a.b': 1, 'b': 3}\n"
     ]
    }
   ],
   "source": [
    "from flatten_dict import flatten\n",
    "\n",
    "nested = {'a': {'b': 1, 'c': {'d': 2, 'e':{'f':{'g':6}, 'h':7}}},\n",
    "          'b': 3,\n",
    "          'c': {'d': 4, 'a': 5}}\n",
    "\n",
    "flat = flatten(nested, reducer=lambda k1, k2: k2 if k1 is None else k1 + '.' + k2)\n",
    "print(flat)"
   ]
  },
  {
   "cell_type": "code",
   "execution_count": null,
   "metadata": {
    "collapsed": true
   },
   "outputs": [],
   "source": []
  },
  {
   "cell_type": "markdown",
   "metadata": {},
   "source": [
    "question here\n",
    "* https://stackoverflow.com/questions/55624280/how-to-convert-python-nested-dict-to-non-nested-dict"
   ]
  }
 ],
 "metadata": {
  "kernelspec": {
   "display_name": "Python 3",
   "language": "python",
   "name": "python3"
  },
  "language_info": {
   "codemirror_mode": {
    "name": "ipython",
    "version": 3
   },
   "file_extension": ".py",
   "mimetype": "text/x-python",
   "name": "python",
   "nbconvert_exporter": "python",
   "pygments_lexer": "ipython3",
   "version": "3.5.3"
  }
 },
 "nbformat": 4,
 "nbformat_minor": 2
}
