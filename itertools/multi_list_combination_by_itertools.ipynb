{
 "cells": [
  {
   "cell_type": "markdown",
   "metadata": {},
   "source": [
    "# multi-list combination"
   ]
  },
  {
   "cell_type": "markdown",
   "metadata": {},
   "source": [
    "# 1. by itertools"
   ]
  },
  {
   "cell_type": "markdown",
   "metadata": {},
   "source": [
    "## 1.1. int list combination"
   ]
  },
  {
   "cell_type": "code",
   "execution_count": 1,
   "metadata": {},
   "outputs": [
    {
     "data": {
      "text/plain": [
       "[(1, 4, 7),\n",
       " (1, 4, 8),\n",
       " (1, 4, 9),\n",
       " (1, 4, 10),\n",
       " (1, 5, 7),\n",
       " (1, 5, 8),\n",
       " (1, 5, 9),\n",
       " (1, 5, 10),\n",
       " (1, 6, 7),\n",
       " (1, 6, 8),\n",
       " (1, 6, 9),\n",
       " (1, 6, 10),\n",
       " (2, 4, 7),\n",
       " (2, 4, 8),\n",
       " (2, 4, 9),\n",
       " (2, 4, 10),\n",
       " (2, 5, 7),\n",
       " (2, 5, 8),\n",
       " (2, 5, 9),\n",
       " (2, 5, 10),\n",
       " (2, 6, 7),\n",
       " (2, 6, 8),\n",
       " (2, 6, 9),\n",
       " (2, 6, 10),\n",
       " (3, 4, 7),\n",
       " (3, 4, 8),\n",
       " (3, 4, 9),\n",
       " (3, 4, 10),\n",
       " (3, 5, 7),\n",
       " (3, 5, 8),\n",
       " (3, 5, 9),\n",
       " (3, 5, 10),\n",
       " (3, 6, 7),\n",
       " (3, 6, 8),\n",
       " (3, 6, 9),\n",
       " (3, 6, 10)]"
      ]
     },
     "execution_count": 1,
     "metadata": {},
     "output_type": "execute_result"
    }
   ],
   "source": [
    "import itertools\n",
    "a = [[1,2,3],[4,5,6],[7,8,9,10]]\n",
    "list(itertools.product(*a))"
   ]
  },
  {
   "cell_type": "markdown",
   "metadata": {},
   "source": [
    "* \\*a means these are arguments being passed to the function or method. def fn(a,b,c): would respond to fn(*[1,2,3])"
   ]
  },
  {
   "cell_type": "markdown",
   "metadata": {},
   "source": [
    "## 1.2. str list combination"
   ]
  },
  {
   "cell_type": "code",
   "execution_count": 2,
   "metadata": {},
   "outputs": [
    {
     "data": {
      "text/plain": [
       "[('A', 'C', 'E', 'H'),\n",
       " ('A', 'C', 'E', 'I'),\n",
       " ('A', 'C', 'F', 'H'),\n",
       " ('A', 'C', 'F', 'I'),\n",
       " ('A', 'C', 'G', 'H'),\n",
       " ('A', 'C', 'G', 'I'),\n",
       " ('A', 'D', 'E', 'H'),\n",
       " ('A', 'D', 'E', 'I'),\n",
       " ('A', 'D', 'F', 'H'),\n",
       " ('A', 'D', 'F', 'I'),\n",
       " ('A', 'D', 'G', 'H'),\n",
       " ('A', 'D', 'G', 'I'),\n",
       " ('B', 'C', 'E', 'H'),\n",
       " ('B', 'C', 'E', 'I'),\n",
       " ('B', 'C', 'F', 'H'),\n",
       " ('B', 'C', 'F', 'I'),\n",
       " ('B', 'C', 'G', 'H'),\n",
       " ('B', 'C', 'G', 'I'),\n",
       " ('B', 'D', 'E', 'H'),\n",
       " ('B', 'D', 'E', 'I'),\n",
       " ('B', 'D', 'F', 'H'),\n",
       " ('B', 'D', 'F', 'I'),\n",
       " ('B', 'D', 'G', 'H'),\n",
       " ('B', 'D', 'G', 'I')]"
      ]
     },
     "execution_count": 2,
     "metadata": {},
     "output_type": "execute_result"
    }
   ],
   "source": [
    "import itertools\n",
    "a = [['A', 'B'],['C', 'D'],['E','F','G'],['H', 'I'] ]\n",
    "list(itertools.product(*a))"
   ]
  },
  {
   "cell_type": "markdown",
   "metadata": {},
   "source": [
    "## 1.3. list of list combination"
   ]
  },
  {
   "cell_type": "code",
   "execution_count": 7,
   "metadata": {},
   "outputs": [
    {
     "data": {
      "text/plain": [
       "[(['A1', 'A2', 'A3'], ['C']),\n",
       " (['A1', 'A2', 'A3'], ['D1', 'D2']),\n",
       " (['B1', 'B2'], ['C']),\n",
       " (['B1', 'B2'], ['D1', 'D2'])]"
      ]
     },
     "execution_count": 7,
     "metadata": {},
     "output_type": "execute_result"
    }
   ],
   "source": [
    "import itertools\n",
    "a = [[['A1', 'A2', 'A3'], ['B1', 'B2']],[['C'], ['D1', 'D2']]]\n",
    "list(itertools.product(*a))"
   ]
  },
  {
   "cell_type": "code",
   "execution_count": null,
   "metadata": {
    "collapsed": true
   },
   "outputs": [],
   "source": []
  },
  {
   "cell_type": "code",
   "execution_count": null,
   "metadata": {
    "collapsed": true
   },
   "outputs": [],
   "source": []
  }
 ],
 "metadata": {
  "kernelspec": {
   "display_name": "Python 2",
   "language": "python",
   "name": "python2"
  },
  "language_info": {
   "codemirror_mode": {
    "name": "ipython",
    "version": 2
   },
   "file_extension": ".py",
   "mimetype": "text/x-python",
   "name": "python",
   "nbconvert_exporter": "python",
   "pygments_lexer": "ipython2",
   "version": "2.7.5"
  }
 },
 "nbformat": 4,
 "nbformat_minor": 2
}
