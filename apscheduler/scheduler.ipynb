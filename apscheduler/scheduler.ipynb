{
 "cells": [
  {
   "cell_type": "code",
   "execution_count": 10,
   "metadata": {
    "collapsed": false
   },
   "outputs": [],
   "source": [
    "from apscheduler.schedulers.blocking import BlockingScheduler"
   ]
  },
  {
   "cell_type": "code",
   "execution_count": 11,
   "metadata": {
    "collapsed": false
   },
   "outputs": [],
   "source": [
    "def my_cron_job1():\n",
    "    print(\"cron job 1\")\n",
    "\n",
    "def my_cron_job2():\n",
    "    print( \"cron job 2\")\n",
    "\n",
    "def my_interval_job():\n",
    "    print( \"interval job\")"
   ]
  },
  {
   "cell_type": "code",
   "execution_count": 12,
   "metadata": {
    "collapsed": false
   },
   "outputs": [
    {
     "data": {
      "text/plain": [
       "<Job (id=my_job_id name=my_interval_job)>"
      ]
     },
     "execution_count": 12,
     "metadata": {},
     "output_type": "execute_result"
    }
   ],
   "source": [
    "sched = BlockingScheduler(timezone='MST')\n",
    "\n",
    "sched.add_job(my_cron_job1, 'cron', id='my_cron_job1', minute=10)\n",
    "sched.add_job(my_cron_job2, 'cron', id='my_cron_job2', minute=20)\n",
    "\n",
    "sched.add_job(my_interval_job, 'interval', id='my_job_id', seconds=5)\n"
   ]
  },
  {
   "cell_type": "code",
   "execution_count": null,
   "metadata": {
    "collapsed": false
   },
   "outputs": [
    {
     "name": "stdout",
     "output_type": "stream",
     "text": [
      "interval job\n",
      "interval job\n",
      "interval job\n",
      "interval job\n",
      "interval job\n",
      "interval job\n"
     ]
    }
   ],
   "source": [
    "sched.start()"
   ]
  },
  {
   "cell_type": "code",
   "execution_count": null,
   "metadata": {
    "collapsed": true
   },
   "outputs": [],
   "source": []
  }
 ],
 "metadata": {
  "kernelspec": {
   "display_name": "Python 3",
   "language": "python",
   "name": "python3"
  },
  "language_info": {
   "codemirror_mode": {
    "name": "ipython",
    "version": 3
   },
   "file_extension": ".py",
   "mimetype": "text/x-python",
   "name": "python",
   "nbconvert_exporter": "python",
   "pygments_lexer": "ipython3",
   "version": "3.5.2"
  }
 },
 "nbformat": 4,
 "nbformat_minor": 2
}
